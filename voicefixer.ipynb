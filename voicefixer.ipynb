{
  "nbformat": 4,
  "nbformat_minor": 0,
  "metadata": {
    "colab": {
      "provenance": [],
      "gpuType": "A100",
      "authorship_tag": "ABX9TyNNpTRR0iMTZE+UROahPuMe",
      "include_colab_link": true
    },
    "kernelspec": {
      "name": "python3",
      "display_name": "Python 3"
    },
    "language_info": {
      "name": "python"
    },
    "accelerator": "GPU"
  },
  "cells": [
    {
      "cell_type": "markdown",
      "metadata": {
        "id": "view-in-github",
        "colab_type": "text"
      },
      "source": [
        "<a href=\"https://colab.research.google.com/github/satani99/VoiceFixer/blob/main/voicefixer.ipynb\" target=\"_parent\"><img src=\"https://colab.research.google.com/assets/colab-badge.svg\" alt=\"Open In Colab\"/></a>"
      ]
    },
    {
      "cell_type": "code",
      "source": [
        "!mkdir input\n",
        "%cd input"
      ],
      "metadata": {
        "id": "jgtDzcILSeZ9"
      },
      "execution_count": null,
      "outputs": []
    },
    {
      "cell_type": "code",
      "execution_count": null,
      "metadata": {
        "id": "NDekaQRzRJ6d"
      },
      "outputs": [],
      "source": [
        "!gdown --fuzzy https://drive.google.com/file/d/1-EilB85iwZ1meMPg2uHXxoZtnyDDcGyP/view?usp=drive_link\n",
        "!gdown --fuzzy https://drive.google.com/file/d/170BjGC1f3YWgTb3h7TJU0EIDbD2GOnBl/view?usp=drive_link\n",
        "!gdown --fuzzy https://drive.google.com/file/d/15y4xFd5OQCcm8NtDAHNvRxJw-N-IWMHt/view?usp=drive_link\n",
        "!gdown --fuzzy https://drive.google.com/file/d/14N5h-46stOIiAO00WnZrK_8iiKK7QkWL/view?usp=drive_link\n",
        "!gdown --fuzzy https://drive.google.com/file/d/1T1ER8ocVZ6ZjYlChJscdchR0zBetrw_W/view?usp=drive_link\n",
        "!gdown --fuzzy https://drive.google.com/file/d/1nJNL6Alm-eThzekC2X2u4WKu05jfWbc2/view?usp=drive_link\n",
        "!gdown --fuzzy https://drive.google.com/file/d/1QPNQdZoX8OAryzMyrtcbTYO55V1dJyVX/view?usp=drive_link\n",
        "!gdown --fuzzy https://drive.google.com/file/d/1f863n6HixrbVh7WxycbX-uxPfyBrTh2Z/view?usp=drive_link\n",
        "!gdown --fuzzy https://drive.google.com/file/d/1RXN6bp5h0ZfCmCKe6tgOmaMilK88WJjo/view?usp=drive_link\n",
        "!gdown --fuzzy https://drive.google.com/file/d/1pYOcsV5IzLm5Kj40wm-XXqFzzabkiSva/view?usp=drive_link\n",
        "!gdown --fuzzy https://drive.google.com/file/d/1Q6FdU-M5ZLf_aN0FjRS2ixLwua854K4w/view?usp=drive_link\n",
        "!gdown --fuzzy https://drive.google.com/file/d/1WOIvnTED-1pLNlhMkvMkIm_-m_GcqA-I/view?usp=drive_link\n",
        "!gdown --fuzzy https://drive.google.com/file/d/1mp0LKdcexQCivknrfAyis0tE1iH0qmDy/view?usp=drive_link\n",
        "!gdown --fuzzy https://drive.google.com/file/d/1bzkPKrva-0t-2Epw2DJy968vw-aX_2Gw/view?usp=drive_link\n",
        "!gdown --fuzzy https://drive.google.com/file/d/1MJ7GrocwLGhQSuExhm7dsmQiHf8KlpXI/view?usp=drive_link\n",
        "!gdown --fuzzy https://drive.google.com/file/d/1IQZpkWcofLCmGifG-J1mJUt54t51F-Kg/view?usp=drive_link\n",
        "!gdown --fuzzy https://drive.google.com/file/d/1HVbl2CCv6IefefPMzZ9Sosw4qlx5FhOY/view?usp=drive_link\n",
        "!gdown --fuzzy https://drive.google.com/file/d/16tgHcu7G7J49HAg2HZgNUv2ZrItapg1M/view?usp=drive_link"
      ]
    },
    {
      "cell_type": "code",
      "source": [
        "%cd .."
      ],
      "metadata": {
        "id": "xMbnaprGSyTd"
      },
      "execution_count": null,
      "outputs": []
    },
    {
      "cell_type": "code",
      "source": [
        "!pip install voicefixer==0.1.2"
      ],
      "metadata": {
        "id": "bkG-ohFlSvAG"
      },
      "execution_count": null,
      "outputs": []
    },
    {
      "cell_type": "code",
      "source": [
        "!pip install pydub\n",
        "from pydub import AudioSegment"
      ],
      "metadata": {
        "id": "JsXpSx91Skgx"
      },
      "execution_count": null,
      "outputs": []
    },
    {
      "cell_type": "code",
      "source": [
        "!mkdir input_wav"
      ],
      "metadata": {
        "id": "hdgHx2ZtU7G4"
      },
      "execution_count": null,
      "outputs": []
    },
    {
      "cell_type": "code",
      "source": [
        "import os\n",
        "directory = 'input'\n",
        "i = 0\n",
        "for filename in os.listdir(directory):\n",
        "    f = os.path.join(directory, filename)\n",
        "    AudioSegment.from_mp3(\"{f}\").export(\"/content/input_wav/{i}.wav\", format=\"wav\")\n",
        "    i += 1\n",
        "    # checking if it is a file\n",
        "    # if os.path.isfile(f):\n",
        "        # print(f)\n",
        ""
      ],
      "metadata": {
        "id": "REL1aJQzSwBu"
      },
      "execution_count": null,
      "outputs": []
    },
    {
      "cell_type": "code",
      "source": [
        "!mkdir output\n",
        "!mkdir output_mp3"
      ],
      "metadata": {
        "id": "-TSSrmG3UmGX"
      },
      "execution_count": null,
      "outputs": []
    },
    {
      "cell_type": "code",
      "source": [
        "!voicefixer --infolder /content/input_wav --outfolder /content/output --mode 0"
      ],
      "metadata": {
        "id": "ReQSLM84Uhq1"
      },
      "execution_count": null,
      "outputs": []
    },
    {
      "cell_type": "code",
      "source": [
        "import os\n",
        "directory = 'output'\n",
        "i = 0\n",
        "for filename in os.listdir(directory):\n",
        "    f = os.path.join(directory, filename)\n",
        "    AudioSegment.from_wav(\"{f}\").export(\"/content/output_mp3/{i}.mp3\", format=\"mp3\")\n",
        "    i += 1"
      ],
      "metadata": {
        "id": "b2NVXVgCUyAn"
      },
      "execution_count": null,
      "outputs": []
    },
    {
      "cell_type": "markdown",
      "source": [
        "Download the files from output_mp3 folder"
      ],
      "metadata": {
        "id": "llY_4ecHVGlG"
      }
    },
    {
      "cell_type": "code",
      "source": [
        "!zip -r /content/output_mp3.zip /content/output_mp3"
      ],
      "metadata": {
        "id": "plfzCBkzVMcp"
      },
      "execution_count": null,
      "outputs": []
    },
    {
      "cell_type": "code",
      "source": [
        "from google.colab import files\n",
        "files.download(\"/content/output_mp3.zip\")"
      ],
      "metadata": {
        "id": "63x1BbRqVbnv"
      },
      "execution_count": null,
      "outputs": []
    }
  ]
}